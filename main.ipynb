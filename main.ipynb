{
 "cells": [
  {
   "cell_type": "code",
   "execution_count": 2,
   "metadata": {},
   "outputs": [],
   "source": [
    "import pandas as pd\n",
    "import numpy as np\n",
    "\n",
    "from sklearn.preprocessing import StandardScaler, LabelEncoder\n",
    "from sklearn.model_selection import train_test_split\n",
    "from sklearn.metrics import confusion_matrix\n",
    "\n",
    "import seaborn as sns\n",
    "import matplotlib.pyplot as plt\n",
    "import plotly.express as px\n",
    "import plotly.subplots as sp\n",
    "\n",
    "import torch\n",
    "from torch import nn, optim\n",
    "from torch.utils import data as dt\n",
    "\n",
    "\n"
   ]
  },
  {
   "cell_type": "code",
   "execution_count": 3,
   "metadata": {},
   "outputs": [],
   "source": [
    "data = pd.read_csv('dataset/opsd_raw.csv')"
   ]
  },
  {
   "cell_type": "code",
   "execution_count": 4,
   "metadata": {},
   "outputs": [],
   "source": [
    "column_names = [\"utc_timestamp\", \"DK_load_actual_entsoe_transparency\", \"DK_solar_generation_actual\", \"DK_wind_generation_actual\"]\n",
    "filtered_data = data[column_names]"
   ]
  },
  {
   "cell_type": "code",
   "execution_count": 4,
   "metadata": {},
   "outputs": [
    {
     "data": {
      "text/plain": [
       "(50400, 4)"
      ]
     },
     "execution_count": 4,
     "metadata": {},
     "output_type": "execute_result"
    }
   ],
   "source": [
    "filtered_data.shape"
   ]
  },
  {
   "cell_type": "code",
   "execution_count": 5,
   "metadata": {},
   "outputs": [
    {
     "name": "stderr",
     "output_type": "stream",
     "text": [
      "/var/folders/f3/cxyjx9753sqbgjvg64rxb3rh0000gn/T/ipykernel_20527/3597298546.py:1: SettingWithCopyWarning: \n",
      "A value is trying to be set on a copy of a slice from a DataFrame.\n",
      "Try using .loc[row_indexer,col_indexer] = value instead\n",
      "\n",
      "See the caveats in the documentation: https://pandas.pydata.org/pandas-docs/stable/user_guide/indexing.html#returning-a-view-versus-a-copy\n",
      "  filtered_data['utc_timestamp'] = pd.to_datetime(filtered_data['utc_timestamp'])\n",
      "/var/folders/f3/cxyjx9753sqbgjvg64rxb3rh0000gn/T/ipykernel_20527/3597298546.py:5: FutureWarning: DataFrame.fillna with 'method' is deprecated and will raise in a future version. Use obj.ffill() or obj.bfill() instead.\n",
      "  filtered_data_filled = filtered_data_filled.fillna(method='ffill').fillna(method='bfill')\n"
     ]
    }
   ],
   "source": [
    "filtered_data['utc_timestamp'] = pd.to_datetime(filtered_data['utc_timestamp'])\n",
    "filtered_data.set_index('utc_timestamp', inplace=True)\n",
    "\n",
    "filtered_data_filled = filtered_data.interpolate(method='time')\n",
    "filtered_data_filled = filtered_data_filled.fillna(method='ffill').fillna(method='bfill')"
   ]
  },
  {
   "cell_type": "code",
   "execution_count": 6,
   "metadata": {},
   "outputs": [],
   "source": [
    "def get_season(date):\n",
    "    # Meteorological seasons\n",
    "    month = date.month\n",
    "    if month in [12, 1, 2]:\n",
    "        return 'Winter'\n",
    "    elif month in [3, 4, 5]:\n",
    "        return 'Spring'\n",
    "    elif month in [6, 7, 8]:\n",
    "        return 'Summer'\n",
    "    else:\n",
    "        return 'Fall'"
   ]
  },
  {
   "cell_type": "code",
   "execution_count": 7,
   "metadata": {},
   "outputs": [],
   "source": [
    "# Aggregate data into daily chunks (lists of 24 hourly values)\n",
    "daily_data = filtered_data_filled.groupby(pd.Grouper(freq='D')).agg(list)\n",
    "\n",
    "# Keep only complete daily records (i.e., 24 hourly entries for load)\n",
    "daily_data = daily_data[daily_data['DK_load_actual_entsoe_transparency'].apply(len) == 24]"
   ]
  },
  {
   "cell_type": "code",
   "execution_count": 8,
   "metadata": {},
   "outputs": [
    {
     "data": {
      "text/html": [
       "<div>\n",
       "<style scoped>\n",
       "    .dataframe tbody tr th:only-of-type {\n",
       "        vertical-align: middle;\n",
       "    }\n",
       "\n",
       "    .dataframe tbody tr th {\n",
       "        vertical-align: top;\n",
       "    }\n",
       "\n",
       "    .dataframe thead th {\n",
       "        text-align: right;\n",
       "    }\n",
       "</style>\n",
       "<table border=\"1\" class=\"dataframe\">\n",
       "  <thead>\n",
       "    <tr style=\"text-align: right;\">\n",
       "      <th></th>\n",
       "      <th>DK_load_actual_entsoe_transparency</th>\n",
       "      <th>DK_solar_generation_actual</th>\n",
       "      <th>DK_wind_generation_actual</th>\n",
       "    </tr>\n",
       "    <tr>\n",
       "      <th>utc_timestamp</th>\n",
       "      <th></th>\n",
       "      <th></th>\n",
       "      <th></th>\n",
       "    </tr>\n",
       "  </thead>\n",
       "  <tbody>\n",
       "    <tr>\n",
       "      <th>2015-01-01 00:00:00+00:00</th>\n",
       "      <td>[3100.02, 3100.02, 2980.39, 2933.49, 2941.54, ...</td>\n",
       "      <td>[0.01, 0.01, 0.01, 0.01, 0.01, 0.01, 0.01, 0.0...</td>\n",
       "      <td>[2357.33, 2357.33, 2387.35, 2594.47, 3092.01, ...</td>\n",
       "    </tr>\n",
       "    <tr>\n",
       "      <th>2015-01-02 00:00:00+00:00</th>\n",
       "      <td>[2996.22, 2942.88, 2944.18, 3019.46, 3104.17, ...</td>\n",
       "      <td>[0.0, 0.0, 0.0, 0.01, 0.01, 0.01, 0.01, 0.06, ...</td>\n",
       "      <td>[3231.6, 3212.27, 3188.93, 3167.6, 3425.92, 42...</td>\n",
       "    </tr>\n",
       "    <tr>\n",
       "      <th>2015-01-03 00:00:00+00:00</th>\n",
       "      <td>[3277.54, 3116.86, 3041.39, 3015.66, 3078.47, ...</td>\n",
       "      <td>[0.0, 0.0, 0.0, 0.0, 0.01, 0.01, 0.01, 0.06, 9...</td>\n",
       "      <td>[4018.64, 4039.56, 3905.82, 3714.39, 3645.2, 3...</td>\n",
       "    </tr>\n",
       "    <tr>\n",
       "      <th>2015-01-04 00:00:00+00:00</th>\n",
       "      <td>[3058.45, 2963.9, 2949.49, 2961.16, 2977.69, 3...</td>\n",
       "      <td>[0.0, 0.0, 0.0, 0.01, 0.0, 0.01, 0.0, 0.53, 23...</td>\n",
       "      <td>[2826.29, 2846.83, 2940.79, 2938.14, 2821.14, ...</td>\n",
       "    </tr>\n",
       "    <tr>\n",
       "      <th>2015-01-05 00:00:00+00:00</th>\n",
       "      <td>[3079.55, 2973.79, 2944.5, 3001.08, 3311.06, 4...</td>\n",
       "      <td>[0.0, 0.0, 0.0, 0.01, 0.01, 0.01, 0.01, 0.1, 4...</td>\n",
       "      <td>[2320.43, 2210.96, 1963.76, 1741.78, 1615.43, ...</td>\n",
       "    </tr>\n",
       "  </tbody>\n",
       "</table>\n",
       "</div>"
      ],
      "text/plain": [
       "                                          DK_load_actual_entsoe_transparency  \\\n",
       "utc_timestamp                                                                  \n",
       "2015-01-01 00:00:00+00:00  [3100.02, 3100.02, 2980.39, 2933.49, 2941.54, ...   \n",
       "2015-01-02 00:00:00+00:00  [2996.22, 2942.88, 2944.18, 3019.46, 3104.17, ...   \n",
       "2015-01-03 00:00:00+00:00  [3277.54, 3116.86, 3041.39, 3015.66, 3078.47, ...   \n",
       "2015-01-04 00:00:00+00:00  [3058.45, 2963.9, 2949.49, 2961.16, 2977.69, 3...   \n",
       "2015-01-05 00:00:00+00:00  [3079.55, 2973.79, 2944.5, 3001.08, 3311.06, 4...   \n",
       "\n",
       "                                                  DK_solar_generation_actual  \\\n",
       "utc_timestamp                                                                  \n",
       "2015-01-01 00:00:00+00:00  [0.01, 0.01, 0.01, 0.01, 0.01, 0.01, 0.01, 0.0...   \n",
       "2015-01-02 00:00:00+00:00  [0.0, 0.0, 0.0, 0.01, 0.01, 0.01, 0.01, 0.06, ...   \n",
       "2015-01-03 00:00:00+00:00  [0.0, 0.0, 0.0, 0.0, 0.01, 0.01, 0.01, 0.06, 9...   \n",
       "2015-01-04 00:00:00+00:00  [0.0, 0.0, 0.0, 0.01, 0.0, 0.01, 0.0, 0.53, 23...   \n",
       "2015-01-05 00:00:00+00:00  [0.0, 0.0, 0.0, 0.01, 0.01, 0.01, 0.01, 0.1, 4...   \n",
       "\n",
       "                                                   DK_wind_generation_actual  \n",
       "utc_timestamp                                                                 \n",
       "2015-01-01 00:00:00+00:00  [2357.33, 2357.33, 2387.35, 2594.47, 3092.01, ...  \n",
       "2015-01-02 00:00:00+00:00  [3231.6, 3212.27, 3188.93, 3167.6, 3425.92, 42...  \n",
       "2015-01-03 00:00:00+00:00  [4018.64, 4039.56, 3905.82, 3714.39, 3645.2, 3...  \n",
       "2015-01-04 00:00:00+00:00  [2826.29, 2846.83, 2940.79, 2938.14, 2821.14, ...  \n",
       "2015-01-05 00:00:00+00:00  [2320.43, 2210.96, 1963.76, 1741.78, 1615.43, ...  "
      ]
     },
     "execution_count": 8,
     "metadata": {},
     "output_type": "execute_result"
    }
   ],
   "source": [
    "daily_data.head(5)"
   ]
  },
  {
   "cell_type": "code",
   "execution_count": 8,
   "metadata": {},
   "outputs": [],
   "source": [
    "# Convert lists to numpy arrays for each column separately\n",
    "load_data = np.array(daily_data['DK_load_actual_entsoe_transparency'].tolist())\n",
    "solar_data = np.array(daily_data['DK_solar_generation_actual'].tolist())\n",
    "wind_data = np.array(daily_data['DK_wind_generation_actual'].tolist())\n",
    "\n",
    "# Create the flattened array by concatenating along axis 1\n",
    "X = pd.DataFrame(np.concatenate([load_data, solar_data, wind_data], axis=1))\n",
    "\n",
    "# Create labels\n",
    "daily_data[\"season\"] = daily_data.index.map(get_season).values"
   ]
  },
  {
   "cell_type": "code",
   "execution_count": 9,
   "metadata": {},
   "outputs": [
    {
     "name": "stdout",
     "output_type": "stream",
     "text": [
      "season\n",
      "Spring    552\n",
      "Summer    552\n",
      "Winter    511\n",
      "Fall      485\n",
      "Name: count, dtype: int64\n"
     ]
    }
   ],
   "source": [
    "# Count how many daily samples fall into each season\n",
    "season_counts = daily_data['season'].value_counts()\n",
    "print(season_counts)"
   ]
  },
  {
   "cell_type": "code",
   "execution_count": 10,
   "metadata": {},
   "outputs": [],
   "source": [
    "label_encoder = LabelEncoder()\n",
    "y = label_encoder.fit_transform(daily_data['season'])"
   ]
  },
  {
   "cell_type": "code",
   "execution_count": 11,
   "metadata": {},
   "outputs": [],
   "source": [
    "# First split into train and temp\n",
    "X_train, X_temp, y_train, y_temp = train_test_split(\n",
    "    X, y, \n",
    "    test_size=0.3, \n",
    "    random_state=42,\n",
    "    stratify=y \n",
    ")\n",
    "\n",
    "# Split temp into validation and test\n",
    "X_val, X_test, y_val, y_test = train_test_split(\n",
    "    X_temp, y_temp,\n",
    "    test_size=0.5,\n",
    "    random_state=42,\n",
    "    stratify=y_temp\n",
    ")"
   ]
  },
  {
   "cell_type": "code",
   "execution_count": 12,
   "metadata": {},
   "outputs": [],
   "source": [
    "scaler = StandardScaler()\n",
    "X_train = scaler.fit_transform(X_train)\n",
    "X_val = scaler.fit_transform(X_val)\n",
    "X_test = scaler.fit_transform(X_test)\n"
   ]
  },
  {
   "cell_type": "code",
   "execution_count": 13,
   "metadata": {},
   "outputs": [
    {
     "data": {
      "application/vnd.plotly.v1+json": {
       "config": {
        "plotlyServerURL": "https://plot.ly"
       },
       "data": [
        {
         "hovertemplate": "x=%{x}<br>y=%{y}<extra></extra>",
         "legendgroup": "",
         "line": {
          "color": "#636efa",
          "dash": "solid"
         },
         "marker": {
          "symbol": "circle"
         },
         "mode": "lines",
         "name": "",
         "orientation": "v",
         "showlegend": false,
         "type": "scatter",
         "x": {
          "bdata": "AQIDBAUGBwgJCgsMDQ4PEBESExQVFhcY",
          "dtype": "i1"
         },
         "xaxis": "x",
         "y": {
          "bdata": "16NwPQo4qEDXo3A9CjioQOF6FK7HSKdAFK5H4frqpkCuR+F6FPumQOF6FK7Hb6dAmpmZmZnRqEDXo3A9iripQOF6FK5HZapAzczMzMzVq0CamZmZGTCtQIXrUbie+61Aw/UoXI9MrkDNzMzMzCCuQM3MzMxMIq9AuB6F6xGmsED2KFyPwo+xQM3MzMzMi7FAuB6F69HCsEDsUbgeBZ+vQOxRuB4FIq5AXI/C9agIrEBI4XoULqmqQDMzMzMzGKlA",
          "dtype": "f8"
         },
         "yaxis": "y"
        },
        {
         "hovertemplate": "x=%{x}<br>y=%{y}<extra></extra>",
         "legendgroup": "",
         "line": {
          "color": "#636efa",
          "dash": "solid"
         },
         "marker": {
          "symbol": "circle"
         },
         "mode": "lines",
         "name": "",
         "orientation": "v",
         "showlegend": false,
         "type": "scatter",
         "x": {
          "bdata": "AQIDBAUGBwgJCgsMDQ4PEBESExQVFhcY",
          "dtype": "i1"
         },
         "xaxis": "x2",
         "y": {
          "bdata": "exSuR2EsqEAfhetRuJKnQB+F61E4X6dAPQrXo/COp0A9Ctej8CyoQB+F61E4aKlAzczMzMx9q0DhehSux4yuQArXo3D9ZbBAj8L1KFyssECPwvUoXMywQKRwPQoXdLBAw/UoXI9HsEBI4XoULh2wQFyPwvWo569Aj8L1KFwHsEAfhetRuI2xQGZmZmamiLJAXI/C9SimsUBmZmZm5hawQPYoXI9Ccq5AUrgeheu8q0CamZmZGWKpQB+F61G4QahA",
          "dtype": "f8"
         },
         "yaxis": "y2"
        },
        {
         "hovertemplate": "x=%{x}<br>y=%{y}<extra></extra>",
         "legendgroup": "",
         "line": {
          "color": "#636efa",
          "dash": "solid"
         },
         "marker": {
          "symbol": "circle"
         },
         "mode": "lines",
         "name": "",
         "orientation": "v",
         "showlegend": false,
         "type": "scatter",
         "x": {
          "bdata": "AQIDBAUGBwgJCgsMDQ4PEBESExQVFhcY",
          "dtype": "i1"
         },
         "xaxis": "x3",
         "y": {
          "bdata": "zczMzMyNpED2KFyPwtekQBSuR+H6/qRAzczMzMwqpkAAAAAAgHGqQHE9CtejKa9AFK5H4XrAsEBSuB6Fq+ywQFK4HoWrYbFAj8L1KJx8sUBcj8L16CuxQLgehevRDLFAKVyPwrW6sEDXo3A9ivevQJqZmZkZb69A4XoUroePsECuR+F61BywQPYoXI9Cna5ASOF6FC7crECamZmZmWarQAAAAAAA2KpAAAAAAACSqEAfhetROJymQClcj8J1dqVA",
          "dtype": "f8"
         },
         "yaxis": "y3"
        },
        {
         "hovertemplate": "x=%{x}<br>y=%{y}<extra></extra>",
         "legendgroup": "",
         "line": {
          "color": "#636efa",
          "dash": "solid"
         },
         "marker": {
          "symbol": "circle"
         },
         "mode": "lines",
         "name": "",
         "orientation": "v",
         "showlegend": false,
         "type": "scatter",
         "x": {
          "bdata": "AQIDBAUGBwgJCgsMDQ4PEBESExQVFhcY",
          "dtype": "i1"
         },
         "xaxis": "x4",
         "y": {
          "bdata": "FK5H4Xr7pUCF61G4HuOlQJqZmZkZZKZAexSuR+EnqECPwvUo3KisQKRwPQrXdrBA9ihcjwKAsUAfhetR+KuxQI/C9Sjc77FAFK5H4XrasUDsUbgehWOxQDMzMzOzubFAAAAAAEBOsUBSuB6F67qwQI/C9Sjcm7BAcT0K1yOCsUBI4XoUruuwQM3MzMxMBrBAcT0K1yOGr0DhehSuRxuuQOF6FK5Hw6tAexSuR2EFqUDNzMzMTDKnQHsUrkfhbKZA",
          "dtype": "f8"
         },
         "yaxis": "y4"
        }
       ],
       "layout": {
        "annotations": [
         {
          "font": {
           "size": 16
          },
          "showarrow": false,
          "text": "Winter",
          "x": 0.225,
          "xanchor": "center",
          "xref": "paper",
          "y": 1,
          "yanchor": "bottom",
          "yref": "paper"
         },
         {
          "font": {
           "size": 16
          },
          "showarrow": false,
          "text": "Spring",
          "x": 0.775,
          "xanchor": "center",
          "xref": "paper",
          "y": 1,
          "yanchor": "bottom",
          "yref": "paper"
         },
         {
          "font": {
           "size": 16
          },
          "showarrow": false,
          "text": "Summer",
          "x": 0.225,
          "xanchor": "center",
          "xref": "paper",
          "y": 0.45,
          "yanchor": "bottom",
          "yref": "paper"
         },
         {
          "font": {
           "size": 16
          },
          "showarrow": false,
          "text": "Fall",
          "x": 0.775,
          "xanchor": "center",
          "xref": "paper",
          "y": 0.45,
          "yanchor": "bottom",
          "yref": "paper"
         }
        ],
        "height": 800,
        "showlegend": false,
        "template": {
         "data": {
          "bar": [
           {
            "error_x": {
             "color": "#2a3f5f"
            },
            "error_y": {
             "color": "#2a3f5f"
            },
            "marker": {
             "line": {
              "color": "white",
              "width": 0.5
             },
             "pattern": {
              "fillmode": "overlay",
              "size": 10,
              "solidity": 0.2
             }
            },
            "type": "bar"
           }
          ],
          "barpolar": [
           {
            "marker": {
             "line": {
              "color": "white",
              "width": 0.5
             },
             "pattern": {
              "fillmode": "overlay",
              "size": 10,
              "solidity": 0.2
             }
            },
            "type": "barpolar"
           }
          ],
          "carpet": [
           {
            "aaxis": {
             "endlinecolor": "#2a3f5f",
             "gridcolor": "#C8D4E3",
             "linecolor": "#C8D4E3",
             "minorgridcolor": "#C8D4E3",
             "startlinecolor": "#2a3f5f"
            },
            "baxis": {
             "endlinecolor": "#2a3f5f",
             "gridcolor": "#C8D4E3",
             "linecolor": "#C8D4E3",
             "minorgridcolor": "#C8D4E3",
             "startlinecolor": "#2a3f5f"
            },
            "type": "carpet"
           }
          ],
          "choropleth": [
           {
            "colorbar": {
             "outlinewidth": 0,
             "ticks": ""
            },
            "type": "choropleth"
           }
          ],
          "contour": [
           {
            "colorbar": {
             "outlinewidth": 0,
             "ticks": ""
            },
            "colorscale": [
             [
              0,
              "#0d0887"
             ],
             [
              0.1111111111111111,
              "#46039f"
             ],
             [
              0.2222222222222222,
              "#7201a8"
             ],
             [
              0.3333333333333333,
              "#9c179e"
             ],
             [
              0.4444444444444444,
              "#bd3786"
             ],
             [
              0.5555555555555556,
              "#d8576b"
             ],
             [
              0.6666666666666666,
              "#ed7953"
             ],
             [
              0.7777777777777778,
              "#fb9f3a"
             ],
             [
              0.8888888888888888,
              "#fdca26"
             ],
             [
              1,
              "#f0f921"
             ]
            ],
            "type": "contour"
           }
          ],
          "contourcarpet": [
           {
            "colorbar": {
             "outlinewidth": 0,
             "ticks": ""
            },
            "type": "contourcarpet"
           }
          ],
          "heatmap": [
           {
            "colorbar": {
             "outlinewidth": 0,
             "ticks": ""
            },
            "colorscale": [
             [
              0,
              "#0d0887"
             ],
             [
              0.1111111111111111,
              "#46039f"
             ],
             [
              0.2222222222222222,
              "#7201a8"
             ],
             [
              0.3333333333333333,
              "#9c179e"
             ],
             [
              0.4444444444444444,
              "#bd3786"
             ],
             [
              0.5555555555555556,
              "#d8576b"
             ],
             [
              0.6666666666666666,
              "#ed7953"
             ],
             [
              0.7777777777777778,
              "#fb9f3a"
             ],
             [
              0.8888888888888888,
              "#fdca26"
             ],
             [
              1,
              "#f0f921"
             ]
            ],
            "type": "heatmap"
           }
          ],
          "histogram": [
           {
            "marker": {
             "pattern": {
              "fillmode": "overlay",
              "size": 10,
              "solidity": 0.2
             }
            },
            "type": "histogram"
           }
          ],
          "histogram2d": [
           {
            "colorbar": {
             "outlinewidth": 0,
             "ticks": ""
            },
            "colorscale": [
             [
              0,
              "#0d0887"
             ],
             [
              0.1111111111111111,
              "#46039f"
             ],
             [
              0.2222222222222222,
              "#7201a8"
             ],
             [
              0.3333333333333333,
              "#9c179e"
             ],
             [
              0.4444444444444444,
              "#bd3786"
             ],
             [
              0.5555555555555556,
              "#d8576b"
             ],
             [
              0.6666666666666666,
              "#ed7953"
             ],
             [
              0.7777777777777778,
              "#fb9f3a"
             ],
             [
              0.8888888888888888,
              "#fdca26"
             ],
             [
              1,
              "#f0f921"
             ]
            ],
            "type": "histogram2d"
           }
          ],
          "histogram2dcontour": [
           {
            "colorbar": {
             "outlinewidth": 0,
             "ticks": ""
            },
            "colorscale": [
             [
              0,
              "#0d0887"
             ],
             [
              0.1111111111111111,
              "#46039f"
             ],
             [
              0.2222222222222222,
              "#7201a8"
             ],
             [
              0.3333333333333333,
              "#9c179e"
             ],
             [
              0.4444444444444444,
              "#bd3786"
             ],
             [
              0.5555555555555556,
              "#d8576b"
             ],
             [
              0.6666666666666666,
              "#ed7953"
             ],
             [
              0.7777777777777778,
              "#fb9f3a"
             ],
             [
              0.8888888888888888,
              "#fdca26"
             ],
             [
              1,
              "#f0f921"
             ]
            ],
            "type": "histogram2dcontour"
           }
          ],
          "mesh3d": [
           {
            "colorbar": {
             "outlinewidth": 0,
             "ticks": ""
            },
            "type": "mesh3d"
           }
          ],
          "parcoords": [
           {
            "line": {
             "colorbar": {
              "outlinewidth": 0,
              "ticks": ""
             }
            },
            "type": "parcoords"
           }
          ],
          "pie": [
           {
            "automargin": true,
            "type": "pie"
           }
          ],
          "scatter": [
           {
            "fillpattern": {
             "fillmode": "overlay",
             "size": 10,
             "solidity": 0.2
            },
            "type": "scatter"
           }
          ],
          "scatter3d": [
           {
            "line": {
             "colorbar": {
              "outlinewidth": 0,
              "ticks": ""
             }
            },
            "marker": {
             "colorbar": {
              "outlinewidth": 0,
              "ticks": ""
             }
            },
            "type": "scatter3d"
           }
          ],
          "scattercarpet": [
           {
            "marker": {
             "colorbar": {
              "outlinewidth": 0,
              "ticks": ""
             }
            },
            "type": "scattercarpet"
           }
          ],
          "scattergeo": [
           {
            "marker": {
             "colorbar": {
              "outlinewidth": 0,
              "ticks": ""
             }
            },
            "type": "scattergeo"
           }
          ],
          "scattergl": [
           {
            "marker": {
             "colorbar": {
              "outlinewidth": 0,
              "ticks": ""
             }
            },
            "type": "scattergl"
           }
          ],
          "scattermap": [
           {
            "marker": {
             "colorbar": {
              "outlinewidth": 0,
              "ticks": ""
             }
            },
            "type": "scattermap"
           }
          ],
          "scattermapbox": [
           {
            "marker": {
             "colorbar": {
              "outlinewidth": 0,
              "ticks": ""
             }
            },
            "type": "scattermapbox"
           }
          ],
          "scatterpolar": [
           {
            "marker": {
             "colorbar": {
              "outlinewidth": 0,
              "ticks": ""
             }
            },
            "type": "scatterpolar"
           }
          ],
          "scatterpolargl": [
           {
            "marker": {
             "colorbar": {
              "outlinewidth": 0,
              "ticks": ""
             }
            },
            "type": "scatterpolargl"
           }
          ],
          "scatterternary": [
           {
            "marker": {
             "colorbar": {
              "outlinewidth": 0,
              "ticks": ""
             }
            },
            "type": "scatterternary"
           }
          ],
          "surface": [
           {
            "colorbar": {
             "outlinewidth": 0,
             "ticks": ""
            },
            "colorscale": [
             [
              0,
              "#0d0887"
             ],
             [
              0.1111111111111111,
              "#46039f"
             ],
             [
              0.2222222222222222,
              "#7201a8"
             ],
             [
              0.3333333333333333,
              "#9c179e"
             ],
             [
              0.4444444444444444,
              "#bd3786"
             ],
             [
              0.5555555555555556,
              "#d8576b"
             ],
             [
              0.6666666666666666,
              "#ed7953"
             ],
             [
              0.7777777777777778,
              "#fb9f3a"
             ],
             [
              0.8888888888888888,
              "#fdca26"
             ],
             [
              1,
              "#f0f921"
             ]
            ],
            "type": "surface"
           }
          ],
          "table": [
           {
            "cells": {
             "fill": {
              "color": "#EBF0F8"
             },
             "line": {
              "color": "white"
             }
            },
            "header": {
             "fill": {
              "color": "#C8D4E3"
             },
             "line": {
              "color": "white"
             }
            },
            "type": "table"
           }
          ]
         },
         "layout": {
          "annotationdefaults": {
           "arrowcolor": "#2a3f5f",
           "arrowhead": 0,
           "arrowwidth": 1
          },
          "autotypenumbers": "strict",
          "coloraxis": {
           "colorbar": {
            "outlinewidth": 0,
            "ticks": ""
           }
          },
          "colorscale": {
           "diverging": [
            [
             0,
             "#8e0152"
            ],
            [
             0.1,
             "#c51b7d"
            ],
            [
             0.2,
             "#de77ae"
            ],
            [
             0.3,
             "#f1b6da"
            ],
            [
             0.4,
             "#fde0ef"
            ],
            [
             0.5,
             "#f7f7f7"
            ],
            [
             0.6,
             "#e6f5d0"
            ],
            [
             0.7,
             "#b8e186"
            ],
            [
             0.8,
             "#7fbc41"
            ],
            [
             0.9,
             "#4d9221"
            ],
            [
             1,
             "#276419"
            ]
           ],
           "sequential": [
            [
             0,
             "#0d0887"
            ],
            [
             0.1111111111111111,
             "#46039f"
            ],
            [
             0.2222222222222222,
             "#7201a8"
            ],
            [
             0.3333333333333333,
             "#9c179e"
            ],
            [
             0.4444444444444444,
             "#bd3786"
            ],
            [
             0.5555555555555556,
             "#d8576b"
            ],
            [
             0.6666666666666666,
             "#ed7953"
            ],
            [
             0.7777777777777778,
             "#fb9f3a"
            ],
            [
             0.8888888888888888,
             "#fdca26"
            ],
            [
             1,
             "#f0f921"
            ]
           ],
           "sequentialminus": [
            [
             0,
             "#0d0887"
            ],
            [
             0.1111111111111111,
             "#46039f"
            ],
            [
             0.2222222222222222,
             "#7201a8"
            ],
            [
             0.3333333333333333,
             "#9c179e"
            ],
            [
             0.4444444444444444,
             "#bd3786"
            ],
            [
             0.5555555555555556,
             "#d8576b"
            ],
            [
             0.6666666666666666,
             "#ed7953"
            ],
            [
             0.7777777777777778,
             "#fb9f3a"
            ],
            [
             0.8888888888888888,
             "#fdca26"
            ],
            [
             1,
             "#f0f921"
            ]
           ]
          },
          "colorway": [
           "#636efa",
           "#EF553B",
           "#00cc96",
           "#ab63fa",
           "#FFA15A",
           "#19d3f3",
           "#FF6692",
           "#B6E880",
           "#FF97FF",
           "#FECB52"
          ],
          "font": {
           "color": "#2a3f5f"
          },
          "geo": {
           "bgcolor": "white",
           "lakecolor": "white",
           "landcolor": "white",
           "showlakes": true,
           "showland": true,
           "subunitcolor": "#C8D4E3"
          },
          "hoverlabel": {
           "align": "left"
          },
          "hovermode": "closest",
          "mapbox": {
           "style": "light"
          },
          "paper_bgcolor": "white",
          "plot_bgcolor": "white",
          "polar": {
           "angularaxis": {
            "gridcolor": "#EBF0F8",
            "linecolor": "#EBF0F8",
            "ticks": ""
           },
           "bgcolor": "white",
           "radialaxis": {
            "gridcolor": "#EBF0F8",
            "linecolor": "#EBF0F8",
            "ticks": ""
           }
          },
          "scene": {
           "xaxis": {
            "backgroundcolor": "white",
            "gridcolor": "#DFE8F3",
            "gridwidth": 2,
            "linecolor": "#EBF0F8",
            "showbackground": true,
            "ticks": "",
            "zerolinecolor": "#EBF0F8"
           },
           "yaxis": {
            "backgroundcolor": "white",
            "gridcolor": "#DFE8F3",
            "gridwidth": 2,
            "linecolor": "#EBF0F8",
            "showbackground": true,
            "ticks": "",
            "zerolinecolor": "#EBF0F8"
           },
           "zaxis": {
            "backgroundcolor": "white",
            "gridcolor": "#DFE8F3",
            "gridwidth": 2,
            "linecolor": "#EBF0F8",
            "showbackground": true,
            "ticks": "",
            "zerolinecolor": "#EBF0F8"
           }
          },
          "shapedefaults": {
           "line": {
            "color": "#2a3f5f"
           }
          },
          "ternary": {
           "aaxis": {
            "gridcolor": "#DFE8F3",
            "linecolor": "#A2B1C6",
            "ticks": ""
           },
           "baxis": {
            "gridcolor": "#DFE8F3",
            "linecolor": "#A2B1C6",
            "ticks": ""
           },
           "bgcolor": "white",
           "caxis": {
            "gridcolor": "#DFE8F3",
            "linecolor": "#A2B1C6",
            "ticks": ""
           }
          },
          "title": {
           "x": 0.05
          },
          "xaxis": {
           "automargin": true,
           "gridcolor": "#EBF0F8",
           "linecolor": "#EBF0F8",
           "ticks": "",
           "title": {
            "standoff": 15
           },
           "zerolinecolor": "#EBF0F8",
           "zerolinewidth": 2
          },
          "yaxis": {
           "automargin": true,
           "gridcolor": "#EBF0F8",
           "linecolor": "#EBF0F8",
           "ticks": "",
           "title": {
            "standoff": 15
           },
           "zerolinecolor": "#EBF0F8",
           "zerolinewidth": 2
          }
         }
        },
        "title": {
         "text": "Daily Load Profiles by Season"
        },
        "width": 1000,
        "xaxis": {
         "anchor": "y",
         "domain": [
          0,
          0.45
         ],
         "title": {
          "text": "Hour of Day"
         }
        },
        "xaxis2": {
         "anchor": "y2",
         "domain": [
          0.55,
          1
         ],
         "title": {
          "text": "Hour of Day"
         }
        },
        "xaxis3": {
         "anchor": "y3",
         "domain": [
          0,
          0.45
         ],
         "title": {
          "text": "Hour of Day"
         }
        },
        "xaxis4": {
         "anchor": "y4",
         "domain": [
          0.55,
          1
         ],
         "title": {
          "text": "Hour of Day"
         }
        },
        "yaxis": {
         "anchor": "x",
         "domain": [
          0.55,
          1
         ],
         "title": {
          "text": "Load (MW)"
         }
        },
        "yaxis2": {
         "anchor": "x2",
         "domain": [
          0.55,
          1
         ],
         "title": {
          "text": "Load (MW)"
         }
        },
        "yaxis3": {
         "anchor": "x3",
         "domain": [
          0,
          0.45
         ],
         "title": {
          "text": "Load (MW)"
         }
        },
        "yaxis4": {
         "anchor": "x4",
         "domain": [
          0,
          0.45
         ],
         "title": {
          "text": "Load (MW)"
         }
        }
       }
      }
     },
     "metadata": {},
     "output_type": "display_data"
    }
   ],
   "source": [
    "\n",
    "winter_data = daily_data[daily_data[\"season\"]==\"Winter\"].iloc[0]\n",
    "spring_data = daily_data[daily_data[\"season\"]==\"Spring\"].iloc[0]\n",
    "summer_data = daily_data[daily_data[\"season\"]==\"Summer\"].iloc[0]\n",
    "fall_data = daily_data[daily_data[\"season\"]==\"Fall\"].iloc[0]\n",
    "\n",
    "# Create a 2x2 subplot grid\n",
    "fig = sp.make_subplots(\n",
    "    rows=2, \n",
    "    cols=2,\n",
    "    subplot_titles=(\"Winter\", \"Spring\", \"Summer\", \"Fall\"),\n",
    "    vertical_spacing=0.1,\n",
    "    horizontal_spacing=0.1\n",
    ")\n",
    "\n",
    "# Add each plot to the subplot grid\n",
    "fig.add_trace(\n",
    "    px.line(x=range(1, 25), y=winter_data[\"DK_load_actual_entsoe_transparency\"]).data[0],\n",
    "    row=1, col=1\n",
    ")\n",
    "\n",
    "fig.add_trace(\n",
    "    px.line(x=range(1, 25), y=spring_data[\"DK_load_actual_entsoe_transparency\"]).data[0],\n",
    "    row=1, col=2\n",
    ")\n",
    "\n",
    "fig.add_trace(\n",
    "    px.line(x=range(1, 25), y=summer_data[\"DK_load_actual_entsoe_transparency\"]).data[0],\n",
    "    row=2, col=1\n",
    ")\n",
    "\n",
    "fig.add_trace(\n",
    "    px.line(x=range(1, 25), y=fall_data[\"DK_load_actual_entsoe_transparency\"]).data[0],\n",
    "    row=2, col=2\n",
    ")\n",
    "\n",
    "# Update layout for all subplots\n",
    "fig.update_layout(\n",
    "    height=800,\n",
    "    width=1000,\n",
    "    title_text=\"Daily Load Profiles by Season\",\n",
    "    showlegend=False,\n",
    "    template=\"plotly_white\"\n",
    ")\n",
    "\n",
    "# Add axis labels to all subplots\n",
    "for i in range(1, 3):\n",
    "    for j in range(1, 3):\n",
    "        fig.update_xaxes(title_text=\"Hour of Day\", row=i, col=j)\n",
    "        fig.update_yaxes(title_text=\"Load (MW)\", row=i, col=j)\n",
    "\n",
    "# Show the plot\n",
    "fig.show()"
   ]
  },
  {
   "cell_type": "markdown",
   "metadata": {},
   "source": [
    "1. The highest load value is at Spring.\n",
    "2. There is a trend of the highest load value near the middle of the day."
   ]
  },
  {
   "cell_type": "code",
   "execution_count": 52,
   "metadata": {},
   "outputs": [],
   "source": [
    "N_EPOCH = 65\n",
    "BATCH_SIZE = 128\n",
    "\n",
    "class FNN(nn.Module):\n",
    "    \n",
    "    def __init__(self,\n",
    "                input_dim = 72, \n",
    "                hidden_dim = 128,\n",
    "                output_dim = 4):\n",
    "        \n",
    "        # nn.module constructor\n",
    "        super().__init__()\n",
    "\n",
    "        # model layers\n",
    "        self.model = nn.Sequential(\n",
    "            # (batch_size, 72) → (batch_size, 128)\n",
    "            nn.Linear(input_dim, hidden_dim),\n",
    "            nn.ReLU(),\n",
    "\n",
    "            # (batch_size, 128) → (batch_size, 4)\n",
    "            nn.Linear(hidden_dim, output_dim)\n",
    "        )\n",
    "\n",
    "        # loss\n",
    "        self.loss_fn = nn.CrossEntropyLoss()\n",
    "\n",
    "        self._device = torch.device(\"cuda\" if torch.cuda.is_available() else \"cpu\")\n",
    "        self.to(self._device)\n",
    "\n",
    "        # optimiser\n",
    "        self.optimizer = optim.Adam(self.parameters(), lr=0.001)\n",
    "\n",
    "    def forward(self, x: torch.Tensor) -> torch.Tensor:\n",
    "        return self.model(x)\n",
    "    \n",
    "    def device(self):\n",
    "        return next(self.parameters()).device\n",
    "    \n",
    "    def train_step(self, X: pd.DataFrame, y: pd.DataFrame):\n",
    "        self.train()\n",
    "        X, y = X.to(self.device()), y.to(self.device())\n",
    "\n",
    "        # prediction from forward pass\n",
    "        pred = self.forward(X)\n",
    "\n",
    "        # calculate loss\n",
    "        loss = self.loss_fn(pred, y)\n",
    "        acc = (pred.argmax(dim=1)==y).sum().item()/len(y)\n",
    "\n",
    "\n",
    "        self.optimizer.zero_grad()\n",
    "        # compute derivatives\n",
    "        loss.backward()\n",
    "        self.optimizer.step()\n",
    "\n",
    "        return loss.item(), acc\n",
    "\n",
    "    def eval_step(self, X: pd.DataFrame, y: pd.DataFrame):\n",
    "        self.eval()\n",
    "        X, y = X.to(self.device()), y.to(self.device())\n",
    "\n",
    "        with torch.no_grad():\n",
    "            pred = self.forward(X)\n",
    "            loss = self.loss_fn(pred, y)\n",
    "            acc = (pred.argmax(dim=1)==y).sum().item()/len(y)\n",
    "\n",
    "        return pred.argmax(dim=1), loss.item(), acc\n",
    "    \n",
    "    def fit(self,\n",
    "            X_train, y_train,\n",
    "            X_val, y_val,\n",
    "            n_epoch = N_EPOCH):\n",
    "        \n",
    "        X_train = torch.tensor(X_train, dtype=torch.float32)\n",
    "        y_train = torch.tensor(y_train, dtype=torch.long)\n",
    "\n",
    "        X_val = torch.tensor(X_val, dtype=torch.float32)\n",
    "        y_val = torch.tensor(y_val, dtype=torch.long)  \n",
    "\n",
    "        dataset_train = dt.TensorDataset(X_train, y_train)\n",
    "        dataset_val = dt.TensorDataset(X_val, y_val)\n",
    "\n",
    "        train_loader = dt.DataLoader(\n",
    "            dataset_train,\n",
    "            batch_size=BATCH_SIZE,\n",
    "            shuffle=True,\n",
    "            )\n",
    "        val_loader = dt.DataLoader(\n",
    "            dataset_val,\n",
    "            batch_size=BATCH_SIZE,\n",
    "            shuffle=True,\n",
    "            )\n",
    "        \n",
    "        train_losses = []\n",
    "        val_losses = []\n",
    "        train_acc = []\n",
    "        val_acc = []\n",
    "        for epoch in range(N_EPOCH):\n",
    "            train_losses_epoches = []\n",
    "            train_acc_epoches = []\n",
    "            for X_batch, y_batch in train_loader:\n",
    "                loss, acc = self.train_step(X_batch, y_batch)\n",
    "                train_losses_epoches.append(loss)\n",
    "                train_acc_epoches.append(acc)\n",
    "\n",
    "            val_losses_epoches = []\n",
    "            val_acc_epoches = []\n",
    "            for X_batch, y_batch in val_loader:\n",
    "                pred, loss, acc = self.eval_step(X_batch, y_batch)\n",
    "                val_losses_epoches.append(loss)\n",
    "                val_acc_epoches.append(acc)\n",
    "\n",
    "            print(f\"Epoch {epoch + 1}/{n_epoch} | \"\n",
    "                  f\"Train Loss: {sum(train_losses_epoches)/len(train_losses_epoches):.4f} | \"\n",
    "                  f\"Val Acc: {sum(val_acc_epoches)/len(val_acc_epoches):.2f}%\")\n",
    "            \n",
    "            train_losses.append(np.mean(train_losses_epoches))\n",
    "            train_acc.append(np.mean(train_acc_epoches))\n",
    "            val_losses.append(np.mean(val_losses_epoches))\n",
    "            val_acc.append(np.mean(val_acc_epoches))  \n",
    "\n",
    "        return train_losses, val_losses, train_acc, val_acc      \n",
    "\n",
    "    def score(self,\n",
    "              X_test, y_test):\n",
    "        \n",
    "        X_test = torch.tensor(X_test, dtype=torch.float32)\n",
    "        y_test = torch.tensor(y_test, dtype=torch.long) \n",
    "        dataset_test = dt.TensorDataset(X_test, y_test)\n",
    "        test_loader = dt.DataLoader(dataset_test, batch_size=BATCH_SIZE)\n",
    "\n",
    "        correct_preds = 0  # Counter for correct predictions\n",
    "        total_preds = 0    # Counter for total predictions\n",
    "        preds = []\n",
    "\n",
    "        with torch.no_grad():\n",
    "            for X_batch, y_batch in test_loader:\n",
    "                pred, _, _ = self.eval_step(X_batch, y_batch)\n",
    "                correct_preds += (pred == y_batch).sum().item()  # Count correct predictions\n",
    "                total_preds += y_batch.size(0)  # Increment total predictions\n",
    "                preds.extend(pred.cpu().numpy())  # Collect all predictions\n",
    "\n",
    "        # Calculate accuracy as the ratio of correct predictions to total predictions\n",
    "        accuracy = correct_preds / total_preds\n",
    "        return accuracy, preds\n"
   ]
  },
  {
   "cell_type": "code",
   "execution_count": 53,
   "metadata": {},
   "outputs": [
    {
     "name": "stdout",
     "output_type": "stream",
     "text": [
      "Epoch 1/65 | Train Loss: 1.2010 | Val Acc: 0.56%\n",
      "Epoch 2/65 | Train Loss: 0.9702 | Val Acc: 0.59%\n",
      "Epoch 3/65 | Train Loss: 0.8632 | Val Acc: 0.65%\n",
      "Epoch 4/65 | Train Loss: 0.7968 | Val Acc: 0.68%\n",
      "Epoch 5/65 | Train Loss: 0.7430 | Val Acc: 0.71%\n",
      "Epoch 6/65 | Train Loss: 0.7000 | Val Acc: 0.70%\n",
      "Epoch 7/65 | Train Loss: 0.6713 | Val Acc: 0.72%\n",
      "Epoch 8/65 | Train Loss: 0.6372 | Val Acc: 0.72%\n",
      "Epoch 9/65 | Train Loss: 0.6109 | Val Acc: 0.73%\n",
      "Epoch 10/65 | Train Loss: 0.5934 | Val Acc: 0.74%\n",
      "Epoch 11/65 | Train Loss: 0.5790 | Val Acc: 0.73%\n",
      "Epoch 12/65 | Train Loss: 0.5625 | Val Acc: 0.75%\n",
      "Epoch 13/65 | Train Loss: 0.5481 | Val Acc: 0.75%\n",
      "Epoch 14/65 | Train Loss: 0.5311 | Val Acc: 0.75%\n",
      "Epoch 15/65 | Train Loss: 0.5246 | Val Acc: 0.76%\n",
      "Epoch 16/65 | Train Loss: 0.5116 | Val Acc: 0.76%\n",
      "Epoch 17/65 | Train Loss: 0.5042 | Val Acc: 0.76%\n",
      "Epoch 18/65 | Train Loss: 0.4906 | Val Acc: 0.77%\n",
      "Epoch 19/65 | Train Loss: 0.4822 | Val Acc: 0.77%\n",
      "Epoch 20/65 | Train Loss: 0.4738 | Val Acc: 0.76%\n",
      "Epoch 21/65 | Train Loss: 0.4606 | Val Acc: 0.78%\n",
      "Epoch 22/65 | Train Loss: 0.4522 | Val Acc: 0.79%\n",
      "Epoch 23/65 | Train Loss: 0.4484 | Val Acc: 0.79%\n",
      "Epoch 24/65 | Train Loss: 0.4410 | Val Acc: 0.82%\n",
      "Epoch 25/65 | Train Loss: 0.4288 | Val Acc: 0.80%\n",
      "Epoch 26/65 | Train Loss: 0.4215 | Val Acc: 0.81%\n",
      "Epoch 27/65 | Train Loss: 0.4225 | Val Acc: 0.80%\n",
      "Epoch 28/65 | Train Loss: 0.4104 | Val Acc: 0.80%\n",
      "Epoch 29/65 | Train Loss: 0.4066 | Val Acc: 0.80%\n",
      "Epoch 30/65 | Train Loss: 0.4001 | Val Acc: 0.81%\n",
      "Epoch 31/65 | Train Loss: 0.3921 | Val Acc: 0.81%\n",
      "Epoch 32/65 | Train Loss: 0.3850 | Val Acc: 0.81%\n",
      "Epoch 33/65 | Train Loss: 0.3838 | Val Acc: 0.81%\n",
      "Epoch 34/65 | Train Loss: 0.3717 | Val Acc: 0.82%\n",
      "Epoch 35/65 | Train Loss: 0.3714 | Val Acc: 0.81%\n",
      "Epoch 36/65 | Train Loss: 0.3609 | Val Acc: 0.81%\n",
      "Epoch 37/65 | Train Loss: 0.3593 | Val Acc: 0.82%\n",
      "Epoch 38/65 | Train Loss: 0.3523 | Val Acc: 0.82%\n",
      "Epoch 39/65 | Train Loss: 0.3517 | Val Acc: 0.82%\n",
      "Epoch 40/65 | Train Loss: 0.3465 | Val Acc: 0.83%\n",
      "Epoch 41/65 | Train Loss: 0.3404 | Val Acc: 0.82%\n",
      "Epoch 42/65 | Train Loss: 0.3350 | Val Acc: 0.83%\n",
      "Epoch 43/65 | Train Loss: 0.3352 | Val Acc: 0.82%\n",
      "Epoch 44/65 | Train Loss: 0.3292 | Val Acc: 0.82%\n",
      "Epoch 45/65 | Train Loss: 0.3256 | Val Acc: 0.82%\n",
      "Epoch 46/65 | Train Loss: 0.3183 | Val Acc: 0.84%\n",
      "Epoch 47/65 | Train Loss: 0.3198 | Val Acc: 0.82%\n",
      "Epoch 48/65 | Train Loss: 0.3188 | Val Acc: 0.83%\n",
      "Epoch 49/65 | Train Loss: 0.3187 | Val Acc: 0.81%\n",
      "Epoch 50/65 | Train Loss: 0.3085 | Val Acc: 0.83%\n",
      "Epoch 51/65 | Train Loss: 0.3044 | Val Acc: 0.83%\n",
      "Epoch 52/65 | Train Loss: 0.3030 | Val Acc: 0.82%\n",
      "Epoch 53/65 | Train Loss: 0.2943 | Val Acc: 0.82%\n",
      "Epoch 54/65 | Train Loss: 0.2957 | Val Acc: 0.83%\n",
      "Epoch 55/65 | Train Loss: 0.2946 | Val Acc: 0.84%\n",
      "Epoch 56/65 | Train Loss: 0.2911 | Val Acc: 0.82%\n",
      "Epoch 57/65 | Train Loss: 0.2871 | Val Acc: 0.83%\n",
      "Epoch 58/65 | Train Loss: 0.2859 | Val Acc: 0.83%\n",
      "Epoch 59/65 | Train Loss: 0.2820 | Val Acc: 0.81%\n",
      "Epoch 60/65 | Train Loss: 0.2801 | Val Acc: 0.84%\n",
      "Epoch 61/65 | Train Loss: 0.2725 | Val Acc: 0.84%\n",
      "Epoch 62/65 | Train Loss: 0.2729 | Val Acc: 0.85%\n",
      "Epoch 63/65 | Train Loss: 0.2692 | Val Acc: 0.84%\n",
      "Epoch 64/65 | Train Loss: 0.2649 | Val Acc: 0.84%\n",
      "Epoch 65/65 | Train Loss: 0.2682 | Val Acc: 0.83%\n"
     ]
    }
   ],
   "source": [
    "model = FNN()\n",
    "train_losses, val_losses, train_acc, val_acc = model.fit(X_train, y_train, X_val, y_val)"
   ]
  },
  {
   "cell_type": "code",
   "execution_count": 54,
   "metadata": {},
   "outputs": [],
   "source": [
    "score_test, preds = model.score(X_test, y_test)\n",
    "score_val, _ = model.score(X_val,y_val)"
   ]
  },
  {
   "cell_type": "code",
   "execution_count": 55,
   "metadata": {},
   "outputs": [
    {
     "name": "stdout",
     "output_type": "stream",
     "text": [
      "On test set: 0.8380952380952381 accuracy\n",
      "On validation set: 0.8253968253968254 accuracy\n"
     ]
    }
   ],
   "source": [
    "print(\"On test set: \" + str(score_test) + \" accuracy\")\n",
    "print(\"On validation set: \" + str(score_val) + \" accuracy\")"
   ]
  },
  {
   "cell_type": "code",
   "execution_count": 56,
   "metadata": {},
   "outputs": [],
   "source": [
    "cm1 = confusion_matrix(preds, y_test)"
   ]
  },
  {
   "cell_type": "code",
   "execution_count": 57,
   "metadata": {},
   "outputs": [
    {
     "data": {
      "image/png": "[encoded data removed]",
      "text/plain": [
       "<Figure size 640x480 with 2 Axes>"
      ]
     },
     "metadata": {},
     "output_type": "display_data"
    }
   ],
   "source": [
    "sns.heatmap(cm1, annot=True, fmt='d', cmap='Blues', xticklabels=range(4), yticklabels=range(4))\n",
    "plt.xlabel('Predicted')\n",
    "plt.ylabel('True')\n",
    "plt.title('Confusion Matrix')\n",
    "plt.show()"
   ]
  },
  {
   "cell_type": "code",
   "execution_count": 14,
   "metadata": {},
   "outputs": [],
   "source": [
    "def plot_training_curves(train_losses, val_losses, train_accs, val_accs):\n",
    "        # Plotting training loss and accuracy curves\n",
    "        fig, ax = plt.subplots(1, 2, figsize=(14, 6))\n",
    "\n",
    "        # Plot loss\n",
    "        ax[0].plot(train_losses, label=\"Train Loss\")\n",
    "        ax[0].plot(val_losses, label=\"Val Loss\")\n",
    "        ax[0].set_title('Training and Validation Loss')\n",
    "        ax[0].set_xlabel('Epochs')\n",
    "        ax[0].set_ylabel('Loss')\n",
    "        ax[0].legend()\n",
    "\n",
    "        # Plot accuracy\n",
    "        ax[1].plot(train_accs, label=\"Train Accuracy\")\n",
    "        ax[1].plot(val_accs, label=\"Val Accuracy\")\n",
    "        ax[1].set_title('Training and Validation Accuracy')\n",
    "        ax[1].set_xlabel('Epochs')\n",
    "        ax[1].set_ylabel('Accuracy')\n",
    "        ax[1].legend()\n",
    "\n",
    "        plt.tight_layout()\n",
    "        plt.show()"
   ]
  },
  {
   "cell_type": "code",
   "execution_count": 59,
   "metadata": {},
   "outputs": [
    {
     "data": {
      "image/png": "[encoded data removed]",
      "text/plain": [
       "<Figure size 1400x600 with 2 Axes>"
      ]
     },
     "metadata": {},
     "output_type": "display_data"
    }
   ],
   "source": [
    "plot_training_curves(train_losses, val_losses, train_acc, val_acc)"
   ]
  },
  {
   "cell_type": "code",
   "execution_count": 60,
   "metadata": {},
   "outputs": [],
   "source": [
    "STRIDE_SIZE = 1\n",
    "KERNEL_SIZE = 3\n",
    "N_EPOCH = 100\n",
    "BATCH_SIZE = 64\n",
    "\n",
    "class CNN_1D(nn.Module):\n",
    "    \n",
    "    def __init__(self,\n",
    "                input_ch = 3,\n",
    "                output_dim = 4,\n",
    "                 ):\n",
    "        \n",
    "        super().__init__()\n",
    "\n",
    "        self.model = nn.Sequential(\n",
    "            # (batch_size, 3, 24) → (batch_size, 64, 24)\n",
    "            nn.Conv1d(in_channels=input_ch, out_channels=64, kernel_size=KERNEL_SIZE, padding=(KERNEL_SIZE-1)//2),\n",
    "            nn.ReLU(),\n",
    "\n",
    "            # (batch_size, 64, 24) → (batch_size, 64, 12)\n",
    "            nn.MaxPool1d(kernel_size=2),\n",
    "\n",
    "            # (batch_size, 64, 12) → (batch_size, 128, 12)\n",
    "            nn.Conv1d(in_channels=64, out_channels=128, kernel_size=KERNEL_SIZE, padding=(KERNEL_SIZE-1)//2),\n",
    "            nn.ReLU(),\n",
    "\n",
    "            # (batch_size, 128, 12) → (batch_size, 128, 6)\n",
    "            nn.MaxPool1d(kernel_size=2),\n",
    "\n",
    "            nn.Dropout(),\n",
    "\n",
    "            # (batch_size, 128, 6) → (batch_size, 256, 6)\n",
    "            nn.Conv1d(in_channels=128, out_channels=256, kernel_size=KERNEL_SIZE, padding=(KERNEL_SIZE-1)//2),\n",
    "            nn.ReLU(),\n",
    "\n",
    "            # (batch_size, 256, 6) → (batch_size, 256, 3)\n",
    "            nn.MaxPool1d(kernel_size=2),\n",
    "\n",
    "            nn.Dropout(),\n",
    "\n",
    "            # Flatten: (batch_size, 256, 3) → (batch_size, 768)\n",
    "            nn.Flatten(),\n",
    "\n",
    "            # (batch_size, 768) → (batch_size, 4)\n",
    "            nn.Linear(in_features=256*3, out_features=output_dim)\n",
    "        )\n",
    "\n",
    "        self.loss_fn = nn.CrossEntropyLoss()\n",
    "\n",
    "        self._device = torch.device(\"cuda\" if torch.cuda.is_available() else \"cpu\")\n",
    "        self.to(self._device)\n",
    "\n",
    "        self.optimizer = optim.Adam(self.parameters(), lr=0.001)\n",
    "\n",
    "    def forward(self, x: torch.Tensor) -> torch.Tensor:\n",
    "        x = x.reshape(x.shape[0], 3, 24)\n",
    "        return self.model(x)\n",
    "\n",
    "    def device(self):\n",
    "        return next(self.parameters()).device\n",
    "    \n",
    "    def train_step(self, x: torch.Tensor, y: torch.Tensor):\n",
    "        self.model.train()\n",
    "        x, y = x.to(self.device()), y.to(self.device())\n",
    "        pred = self.forward(x)\n",
    "        loss = self.loss_fn(pred, y)\n",
    "        self.optimizer.zero_grad()\n",
    "        loss.backward()\n",
    "        self.optimizer.step()\n",
    "\n",
    "        return loss.item(), (pred.argmax(dim=1)==y).sum().item()/len(y)\n",
    "\n",
    "    def eval_step(self, X: pd.DataFrame, y: pd.DataFrame):\n",
    "        self.eval()\n",
    "        X, y = X.to(self.device()), y.to(self.device())\n",
    "\n",
    "        with torch.no_grad():\n",
    "            pred = self.forward(X)\n",
    "            loss = self.loss_fn(pred, y)\n",
    "            acc = (pred.argmax(dim=1)==y).sum().item()/len(y)\n",
    "\n",
    "        return pred.argmax(dim=1), loss.item(), acc\n",
    "\n",
    "    def fit(self,\n",
    "            X_train, y_train,\n",
    "            X_val, y_val,\n",
    "            n_epoch = N_EPOCH):\n",
    "        \n",
    "        X_train = torch.tensor(X_train, dtype=torch.float32)\n",
    "        y_train = torch.tensor(y_train, dtype=torch.long)\n",
    "\n",
    "        X_val = torch.tensor(X_val, dtype=torch.float32)\n",
    "        y_val = torch.tensor(y_val, dtype=torch.long)  \n",
    "\n",
    "        dataset_train = dt.TensorDataset(X_train, y_train)\n",
    "        dataset_val = dt.TensorDataset(X_val, y_val)\n",
    "\n",
    "        train_loader = dt.DataLoader(\n",
    "            dataset_train,\n",
    "            batch_size=BATCH_SIZE,\n",
    "            shuffle=True,\n",
    "            )\n",
    "        val_loader = dt.DataLoader(\n",
    "            dataset_val,\n",
    "            batch_size=BATCH_SIZE,\n",
    "            shuffle=True,\n",
    "            )\n",
    "        \n",
    "        train_losses = []\n",
    "        val_losses = []\n",
    "        train_acc = []\n",
    "        val_acc = []\n",
    "        for epoch in range(N_EPOCH):\n",
    "            train_losses_epoches = []\n",
    "            train_acc_epoches = []\n",
    "            for X_batch, y_batch in train_loader:\n",
    "                loss, acc = self.train_step(X_batch, y_batch)\n",
    "                train_losses_epoches.append(loss)\n",
    "                train_acc_epoches.append(acc)\n",
    "\n",
    "            val_losses_epoches = []\n",
    "            val_acc_epoches = []\n",
    "            for X_batch, y_batch in val_loader:\n",
    "                pred, loss, acc = self.eval_step(X_batch, y_batch)\n",
    "                val_losses_epoches.append(loss)\n",
    "                val_acc_epoches.append(acc)\n",
    "\n",
    "            print(f\"Epoch {epoch + 1}/{n_epoch} | \"\n",
    "                  f\"Train Loss: {sum(train_losses_epoches)/len(train_losses_epoches):.4f} | \"\n",
    "                  f\"Val Acc: {sum(val_acc_epoches)/len(val_acc_epoches):.2f}%\")\n",
    "            \n",
    "            train_losses.append(np.mean(train_losses_epoches))\n",
    "            train_acc.append(np.mean(train_acc_epoches))\n",
    "            val_losses.append(np.mean(val_losses_epoches))\n",
    "            val_acc.append(np.mean(val_acc_epoches))  \n",
    "\n",
    "        return train_losses, val_losses, train_acc, val_acc      \n",
    "\n",
    "    def score(self,\n",
    "              X_test, y_test):\n",
    "        \n",
    "        X_test = torch.tensor(X_test, dtype=torch.float32)\n",
    "        y_test = torch.tensor(y_test, dtype=torch.long) \n",
    "        dataset_test = dt.TensorDataset(X_test, y_test)\n",
    "        test_loader = dt.DataLoader(dataset_test, batch_size=BATCH_SIZE)\n",
    "\n",
    "        correct_preds = 0  # Counter for correct predictions\n",
    "        total_preds = 0    # Counter for total predictions\n",
    "        preds = []\n",
    "\n",
    "        with torch.no_grad():\n",
    "            for X_batch, y_batch in test_loader:\n",
    "                pred, _, _ = self.eval_step(X_batch, y_batch)\n",
    "                correct_preds += (pred == y_batch).sum().item()  # Count correct predictions\n",
    "                total_preds += y_batch.size(0)  # Increment total predictions\n",
    "                preds.extend(pred.cpu().numpy())  # Collect all predictions\n",
    "\n",
    "        # Calculate accuracy as the ratio of correct predictions to total predictions\n",
    "        accuracy = correct_preds / total_preds\n",
    "        return accuracy, preds"
   ]
  },
  {
   "cell_type": "code",
   "execution_count": 61,
   "metadata": {},
   "outputs": [
    {
     "name": "stdout",
     "output_type": "stream",
     "text": [
      "Epoch 1/100 | Train Loss: 1.0853 | Val Acc: 0.58%\n",
      "Epoch 2/100 | Train Loss: 0.8983 | Val Acc: 0.63%\n",
      "Epoch 3/100 | Train Loss: 0.8252 | Val Acc: 0.67%\n",
      "Epoch 4/100 | Train Loss: 0.7730 | Val Acc: 0.71%\n",
      "Epoch 5/100 | Train Loss: 0.7344 | Val Acc: 0.69%\n",
      "Epoch 6/100 | Train Loss: 0.7004 | Val Acc: 0.73%\n",
      "Epoch 7/100 | Train Loss: 0.6575 | Val Acc: 0.72%\n",
      "Epoch 8/100 | Train Loss: 0.6283 | Val Acc: 0.75%\n",
      "Epoch 9/100 | Train Loss: 0.6139 | Val Acc: 0.74%\n",
      "Epoch 10/100 | Train Loss: 0.5990 | Val Acc: 0.75%\n",
      "Epoch 11/100 | Train Loss: 0.5786 | Val Acc: 0.79%\n",
      "Epoch 12/100 | Train Loss: 0.5573 | Val Acc: 0.77%\n",
      "Epoch 13/100 | Train Loss: 0.5468 | Val Acc: 0.79%\n",
      "Epoch 14/100 | Train Loss: 0.5126 | Val Acc: 0.79%\n",
      "Epoch 15/100 | Train Loss: 0.5115 | Val Acc: 0.80%\n",
      "Epoch 16/100 | Train Loss: 0.5182 | Val Acc: 0.79%\n",
      "Epoch 17/100 | Train Loss: 0.4869 | Val Acc: 0.80%\n",
      "Epoch 18/100 | Train Loss: 0.4784 | Val Acc: 0.76%\n",
      "Epoch 19/100 | Train Loss: 0.4607 | Val Acc: 0.82%\n",
      "Epoch 20/100 | Train Loss: 0.4601 | Val Acc: 0.82%\n",
      "Epoch 21/100 | Train Loss: 0.4252 | Val Acc: 0.80%\n",
      "Epoch 22/100 | Train Loss: 0.4281 | Val Acc: 0.78%\n",
      "Epoch 23/100 | Train Loss: 0.4277 | Val Acc: 0.80%\n",
      "Epoch 24/100 | Train Loss: 0.4121 | Val Acc: 0.83%\n",
      "Epoch 25/100 | Train Loss: 0.4289 | Val Acc: 0.79%\n",
      "Epoch 26/100 | Train Loss: 0.4047 | Val Acc: 0.83%\n",
      "Epoch 27/100 | Train Loss: 0.3811 | Val Acc: 0.81%\n",
      "Epoch 28/100 | Train Loss: 0.3811 | Val Acc: 0.79%\n",
      "Epoch 29/100 | Train Loss: 0.3695 | Val Acc: 0.83%\n",
      "Epoch 30/100 | Train Loss: 0.3411 | Val Acc: 0.82%\n",
      "Epoch 31/100 | Train Loss: 0.3638 | Val Acc: 0.83%\n",
      "Epoch 32/100 | Train Loss: 0.3728 | Val Acc: 0.84%\n",
      "Epoch 33/100 | Train Loss: 0.3439 | Val Acc: 0.80%\n",
      "Epoch 34/100 | Train Loss: 0.3524 | Val Acc: 0.83%\n",
      "Epoch 35/100 | Train Loss: 0.3563 | Val Acc: 0.78%\n",
      "Epoch 36/100 | Train Loss: 0.3741 | Val Acc: 0.85%\n",
      "Epoch 37/100 | Train Loss: 0.3420 | Val Acc: 0.84%\n",
      "Epoch 38/100 | Train Loss: 0.3245 | Val Acc: 0.84%\n",
      "Epoch 39/100 | Train Loss: 0.3288 | Val Acc: 0.84%\n",
      "Epoch 40/100 | Train Loss: 0.3321 | Val Acc: 0.84%\n",
      "Epoch 41/100 | Train Loss: 0.3230 | Val Acc: 0.83%\n",
      "Epoch 42/100 | Train Loss: 0.3262 | Val Acc: 0.81%\n",
      "Epoch 43/100 | Train Loss: 0.3007 | Val Acc: 0.83%\n",
      "Epoch 44/100 | Train Loss: 0.3098 | Val Acc: 0.82%\n",
      "Epoch 45/100 | Train Loss: 0.3140 | Val Acc: 0.83%\n",
      "Epoch 46/100 | Train Loss: 0.2806 | Val Acc: 0.83%\n",
      "Epoch 47/100 | Train Loss: 0.2977 | Val Acc: 0.84%\n",
      "Epoch 48/100 | Train Loss: 0.2598 | Val Acc: 0.84%\n",
      "Epoch 49/100 | Train Loss: 0.3021 | Val Acc: 0.85%\n",
      "Epoch 50/100 | Train Loss: 0.2832 | Val Acc: 0.83%\n",
      "Epoch 51/100 | Train Loss: 0.2807 | Val Acc: 0.83%\n",
      "Epoch 52/100 | Train Loss: 0.2706 | Val Acc: 0.84%\n",
      "Epoch 53/100 | Train Loss: 0.2819 | Val Acc: 0.84%\n",
      "Epoch 54/100 | Train Loss: 0.2652 | Val Acc: 0.84%\n",
      "Epoch 55/100 | Train Loss: 0.2657 | Val Acc: 0.86%\n",
      "Epoch 56/100 | Train Loss: 0.2604 | Val Acc: 0.86%\n",
      "Epoch 57/100 | Train Loss: 0.2500 | Val Acc: 0.86%\n",
      "Epoch 58/100 | Train Loss: 0.2750 | Val Acc: 0.81%\n",
      "Epoch 59/100 | Train Loss: 0.2549 | Val Acc: 0.85%\n",
      "Epoch 60/100 | Train Loss: 0.2548 | Val Acc: 0.84%\n",
      "Epoch 61/100 | Train Loss: 0.2635 | Val Acc: 0.83%\n",
      "Epoch 62/100 | Train Loss: 0.2551 | Val Acc: 0.86%\n",
      "Epoch 63/100 | Train Loss: 0.2319 | Val Acc: 0.85%\n",
      "Epoch 64/100 | Train Loss: 0.2329 | Val Acc: 0.86%\n",
      "Epoch 65/100 | Train Loss: 0.2361 | Val Acc: 0.84%\n",
      "Epoch 66/100 | Train Loss: 0.2426 | Val Acc: 0.84%\n",
      "Epoch 67/100 | Train Loss: 0.2308 | Val Acc: 0.86%\n",
      "Epoch 68/100 | Train Loss: 0.2215 | Val Acc: 0.87%\n",
      "Epoch 69/100 | Train Loss: 0.2170 | Val Acc: 0.86%\n",
      "Epoch 70/100 | Train Loss: 0.2113 | Val Acc: 0.87%\n",
      "Epoch 71/100 | Train Loss: 0.2405 | Val Acc: 0.85%\n",
      "Epoch 72/100 | Train Loss: 0.2206 | Val Acc: 0.85%\n",
      "Epoch 73/100 | Train Loss: 0.2154 | Val Acc: 0.87%\n",
      "Epoch 74/100 | Train Loss: 0.2186 | Val Acc: 0.88%\n",
      "Epoch 75/100 | Train Loss: 0.2219 | Val Acc: 0.85%\n",
      "Epoch 76/100 | Train Loss: 0.2192 | Val Acc: 0.85%\n",
      "Epoch 77/100 | Train Loss: 0.2054 | Val Acc: 0.87%\n",
      "Epoch 78/100 | Train Loss: 0.2256 | Val Acc: 0.84%\n",
      "Epoch 79/100 | Train Loss: 0.2129 | Val Acc: 0.85%\n",
      "Epoch 80/100 | Train Loss: 0.1954 | Val Acc: 0.85%\n",
      "Epoch 81/100 | Train Loss: 0.1998 | Val Acc: 0.86%\n",
      "Epoch 82/100 | Train Loss: 0.1987 | Val Acc: 0.87%\n",
      "Epoch 83/100 | Train Loss: 0.2022 | Val Acc: 0.87%\n",
      "Epoch 84/100 | Train Loss: 0.1978 | Val Acc: 0.88%\n",
      "Epoch 85/100 | Train Loss: 0.2134 | Val Acc: 0.86%\n",
      "Epoch 86/100 | Train Loss: 0.2112 | Val Acc: 0.85%\n",
      "Epoch 87/100 | Train Loss: 0.1907 | Val Acc: 0.82%\n",
      "Epoch 88/100 | Train Loss: 0.2208 | Val Acc: 0.86%\n",
      "Epoch 89/100 | Train Loss: 0.2136 | Val Acc: 0.86%\n",
      "Epoch 90/100 | Train Loss: 0.1799 | Val Acc: 0.86%\n",
      "Epoch 91/100 | Train Loss: 0.1602 | Val Acc: 0.85%\n",
      "Epoch 92/100 | Train Loss: 0.1902 | Val Acc: 0.87%\n",
      "Epoch 93/100 | Train Loss: 0.1803 | Val Acc: 0.86%\n",
      "Epoch 94/100 | Train Loss: 0.1868 | Val Acc: 0.85%\n",
      "Epoch 95/100 | Train Loss: 0.1790 | Val Acc: 0.85%\n",
      "Epoch 96/100 | Train Loss: 0.1682 | Val Acc: 0.87%\n",
      "Epoch 97/100 | Train Loss: 0.1682 | Val Acc: 0.86%\n",
      "Epoch 98/100 | Train Loss: 0.1811 | Val Acc: 0.87%\n",
      "Epoch 99/100 | Train Loss: 0.1820 | Val Acc: 0.87%\n",
      "Epoch 100/100 | Train Loss: 0.1782 | Val Acc: 0.86%\n"
     ]
    }
   ],
   "source": [
    "model = CNN_1D()\n",
    "train_losses, val_losses, train_acc, val_acc = model.fit(X_train, y_train, X_val, y_val)"
   ]
  },
  {
   "cell_type": "code",
   "execution_count": 62,
   "metadata": {},
   "outputs": [],
   "source": [
    "score_test, preds = model.score(X_test, y_test)\n",
    "score_val, _ = model.score(X_val,y_val)"
   ]
  },
  {
   "cell_type": "code",
   "execution_count": 64,
   "metadata": {},
   "outputs": [
    {
     "name": "stdout",
     "output_type": "stream",
     "text": [
      "On test set: 0.8698412698412699 accuracy\n",
      "On validation set: 0.8634920634920635 accuracy\n"
     ]
    }
   ],
   "source": [
    "print(\"On test set: \" + str(score_test) + \" accuracy\")\n",
    "print(\"On validation set: \" + str(score_val) + \" accuracy\")"
   ]
  },
  {
   "cell_type": "code",
   "execution_count": 65,
   "metadata": {},
   "outputs": [],
   "source": [
    "cm2 = confusion_matrix(preds, y_test)"
   ]
  },
  {
   "cell_type": "code",
   "execution_count": 66,
   "metadata": {},
   "outputs": [
    {
     "data": {
      "image/png": "[encoded data removed]",
      "text/plain": [
       "<Figure size 640x480 with 2 Axes>"
      ]
     },
     "metadata": {},
     "output_type": "display_data"
    }
   ],
   "source": [
    "sns.heatmap(cm2, annot=True, fmt='d', cmap='Blues', xticklabels=range(4), yticklabels=range(4))\n",
    "plt.xlabel('Predicted')\n",
    "plt.ylabel('True')\n",
    "plt.title('Confusion Matrix')\n",
    "plt.show()"
   ]
  },
  {
   "cell_type": "code",
   "execution_count": 67,
   "metadata": {},
   "outputs": [
    {
     "data": {
      "image/png": "[encoded data removed]",
      "text/plain": [
       "<Figure size 1400x600 with 2 Axes>"
      ]
     },
     "metadata": {},
     "output_type": "display_data"
    }
   ],
   "source": [
    "plot_training_curves(train_losses, val_losses, train_acc, val_acc)"
   ]
  },
  {
   "cell_type": "code",
   "execution_count": 26,
   "metadata": {},
   "outputs": [],
   "source": [
    "from pyts.image import GramianAngularField\n",
    "\n",
    "STRIDE_SIZE = 1\n",
    "KERNEL_SIZE = 3\n",
    "N_EPOCH = 20\n",
    "BATCH_SIZE = 64\n",
    "\n",
    "\n",
    "def transform_to_gaf_images(X_raw: np.ndarray, image_size: int = 24):\n",
    "\n",
    "    n_samples, n_channels, ts_length = X_raw.shape\n",
    "    gaf = GramianAngularField(image_size=image_size, method='summation')\n",
    "    X_gaf = np.zeros((n_samples, n_channels, image_size, image_size))\n",
    "\n",
    "    for i in range(n_samples):\n",
    "        for ch in range(n_channels):\n",
    "            ts = X_raw[i, ch]\n",
    "            X_gaf[i, ch] = gaf.fit_transform(ts.reshape(1, -1))[0]\n",
    "\n",
    "    return X_gaf\n",
    "\n",
    "\n",
    "class CNN_2D(nn.Module):\n",
    "\n",
    "    def __init__(self, input_ch=3, output_dim=4):\n",
    "        super().__init__()\n",
    "\n",
    "        self.model = nn.Sequential(\n",
    "            # (batch_size, 3, 24, 24) -> (batch_size, 64, 24, 24)\n",
    "            nn.Conv2d(in_channels=input_ch, out_channels=64,\n",
    "                      kernel_size=KERNEL_SIZE, padding=(KERNEL_SIZE - 1) // 2),\n",
    "            nn.ReLU(),\n",
    "\n",
    "            # (batch_size, 64, 24, 24) -> (batch_size, 128, 24, 24)\n",
    "            nn.Conv2d(in_channels=64, out_channels=128,\n",
    "                      kernel_size=KERNEL_SIZE, padding=(KERNEL_SIZE - 1) // 2),\n",
    "            nn.ReLU(),\n",
    "\n",
    "            # (batch_size, 128, 24, 24) -> (batch_size, 128, 12, 12)\n",
    "            nn.MaxPool2d(kernel_size=2),\n",
    "            nn.Dropout(),\n",
    "\n",
    "            # (batch_size, 128, 12, 12) -> (batch_size, 18432)\n",
    "            nn.Flatten(),\n",
    "\n",
    "            # (batch_size, 18432) -> (batch_size, 64)\n",
    "            nn.Linear(in_features=128 * 12 * 12, out_features=64),\n",
    "            nn.ReLU(),\n",
    "\n",
    "            # (batch_size, 64) -> (batch_size, 4)\n",
    "            nn.Linear(in_features=64, out_features=output_dim)\n",
    "        )\n",
    "\n",
    "        self.loss_fn = nn.CrossEntropyLoss()\n",
    "        self._device = torch.device(\"cuda\" if torch.cuda.is_available() else \"cpu\")\n",
    "        self.to(self._device)\n",
    "        self.optimizer = optim.Adam(self.parameters(), lr=0.001)\n",
    "\n",
    "    def forward(self, x: torch.Tensor) -> torch.Tensor:\n",
    "        return self.model(x)\n",
    "\n",
    "    def device(self):\n",
    "        return next(self.parameters()).device\n",
    "\n",
    "    def train_step(self, x: torch.Tensor, y: torch.Tensor):\n",
    "        self.model.train()\n",
    "        x, y = x.to(self.device()), y.to(self.device())\n",
    "        pred = self.forward(x)\n",
    "        loss = self.loss_fn(pred, y)\n",
    "        self.optimizer.zero_grad()\n",
    "        loss.backward()\n",
    "        self.optimizer.step()\n",
    "        return loss.item(), (pred.argmax(dim=1) == y).sum().item() / len(y)\n",
    "\n",
    "    def eval_step(self, X: torch.Tensor, y: torch.Tensor):\n",
    "        self.eval()\n",
    "        X, y = X.to(self.device()), y.to(self.device())\n",
    "        with torch.no_grad():\n",
    "            pred = self.forward(X)\n",
    "            loss = self.loss_fn(pred, y)\n",
    "            acc = (pred.argmax(dim=1) == y).sum().item() / len(y)\n",
    "        return pred.argmax(dim=1), loss.item(), acc\n",
    "\n",
    "    def fit(self, X_train, y_train, X_val, y_val, n_epoch=N_EPOCH):\n",
    "        # Reshape flat vector (n_samples, 72) → (n_samples, 3, 24)\n",
    "        X_train = X_train.reshape(-1, 3, 24)\n",
    "        X_val = X_val.reshape(-1, 3, 24)\n",
    "\n",
    "        # Apply GAF transformation\n",
    "        X_train = transform_to_gaf_images(X_train)\n",
    "        X_val = transform_to_gaf_images(X_val)\n",
    "\n",
    "        # Convert to tensors\n",
    "        X_train = torch.tensor(X_train, dtype=torch.float32)\n",
    "        y_train = torch.tensor(y_train, dtype=torch.long)\n",
    "        X_val = torch.tensor(X_val, dtype=torch.float32)\n",
    "        y_val = torch.tensor(y_val, dtype=torch.long)\n",
    "\n",
    "        dataset_train = dt.TensorDataset(X_train, y_train)\n",
    "        dataset_val = dt.TensorDataset(X_val, y_val)\n",
    "        train_loader = dt.DataLoader(dataset_train, batch_size=BATCH_SIZE, shuffle=True)\n",
    "        val_loader = dt.DataLoader(dataset_val, batch_size=BATCH_SIZE, shuffle=True)\n",
    "\n",
    "        train_losses, val_losses, train_acc, val_acc = [], [], [], []\n",
    "\n",
    "        for epoch in range(N_EPOCH):\n",
    "            train_losses_epoches = []\n",
    "            train_acc_epoches = []\n",
    "            for X_batch, y_batch in train_loader:\n",
    "                loss, acc = self.train_step(X_batch, y_batch)\n",
    "                train_losses_epoches.append(loss)\n",
    "                train_acc_epoches.append(acc)\n",
    "\n",
    "            val_losses_epoches = []\n",
    "            val_acc_epoches = []\n",
    "            for X_batch, y_batch in val_loader:\n",
    "                _, loss, acc = self.eval_step(X_batch, y_batch)\n",
    "                val_losses_epoches.append(loss)\n",
    "                val_acc_epoches.append(acc)\n",
    "\n",
    "            print(f\"Epoch {epoch + 1}/{n_epoch} | \"\n",
    "                  f\"Train Loss: {np.mean(train_losses_epoches):.4f} | \"\n",
    "                  f\"Val Acc: {np.mean(val_acc_epoches) * 100:.2f}%\")\n",
    "\n",
    "            train_losses.append(np.mean(train_losses_epoches))\n",
    "            train_acc.append(np.mean(train_acc_epoches))\n",
    "            val_losses.append(np.mean(val_losses_epoches))\n",
    "            val_acc.append(np.mean(val_acc_epoches))\n",
    "\n",
    "        return train_losses, val_losses, train_acc, val_acc\n",
    "\n",
    "    def score(self, X_test, y_test):\n",
    "        # Reshape flat vector (n_samples, 72) → (n_samples, 3, 24)\n",
    "        X_test = X_test.reshape(-1, 3, 24)\n",
    "        X_test = transform_to_gaf_images(X_test)\n",
    "\n",
    "        X_test = torch.tensor(X_test, dtype=torch.float32)\n",
    "        y_test = torch.tensor(y_test, dtype=torch.long)\n",
    "        dataset_test = dt.TensorDataset(X_test, y_test)\n",
    "        test_loader = dt.DataLoader(dataset_test, batch_size=BATCH_SIZE)\n",
    "\n",
    "        correct_preds = 0\n",
    "        total_preds = 0\n",
    "        preds = []\n",
    "\n",
    "        with torch.no_grad():\n",
    "            for X_batch, y_batch in test_loader:\n",
    "                pred, _, _ = self.eval_step(X_batch, y_batch)\n",
    "                correct_preds += (pred == y_batch).sum().item()\n",
    "                total_preds += y_batch.size(0)\n",
    "                preds.extend(pred.cpu().numpy())\n",
    "\n",
    "        accuracy = correct_preds / total_preds\n",
    "        return accuracy, preds"
   ]
  },
  {
   "cell_type": "code",
   "execution_count": 27,
   "metadata": {},
   "outputs": [
    {
     "name": "stdout",
     "output_type": "stream",
     "text": [
      "Epoch 1/20 | Train Loss: 1.1494 | Val Acc: 62.31%\n",
      "Epoch 2/20 | Train Loss: 0.7513 | Val Acc: 73.41%\n",
      "Epoch 3/20 | Train Loss: 0.6106 | Val Acc: 74.60%\n",
      "Epoch 4/20 | Train Loss: 0.5041 | Val Acc: 78.67%\n",
      "Epoch 5/20 | Train Loss: 0.4484 | Val Acc: 77.42%\n",
      "Epoch 6/20 | Train Loss: 0.3930 | Val Acc: 79.58%\n",
      "Epoch 7/20 | Train Loss: 0.3307 | Val Acc: 80.18%\n",
      "Epoch 8/20 | Train Loss: 0.2812 | Val Acc: 80.59%\n",
      "Epoch 9/20 | Train Loss: 0.2436 | Val Acc: 80.51%\n",
      "Epoch 10/20 | Train Loss: 0.2168 | Val Acc: 80.39%\n",
      "Epoch 11/20 | Train Loss: 0.1755 | Val Acc: 79.22%\n",
      "Epoch 12/20 | Train Loss: 0.1522 | Val Acc: 79.14%\n",
      "Epoch 13/20 | Train Loss: 0.1488 | Val Acc: 79.99%\n",
      "Epoch 14/20 | Train Loss: 0.1346 | Val Acc: 79.42%\n",
      "Epoch 15/20 | Train Loss: 0.1076 | Val Acc: 80.13%\n",
      "Epoch 16/20 | Train Loss: 0.0865 | Val Acc: 80.28%\n",
      "Epoch 17/20 | Train Loss: 0.1079 | Val Acc: 77.49%\n",
      "Epoch 18/20 | Train Loss: 0.1089 | Val Acc: 80.67%\n",
      "Epoch 19/20 | Train Loss: 0.0920 | Val Acc: 80.02%\n",
      "Epoch 20/20 | Train Loss: 0.0705 | Val Acc: 78.72%\n"
     ]
    }
   ],
   "source": [
    "model = CNN_2D()\n",
    "train_losses, val_losses, train_acc, val_acc = model.fit(X_train, y_train, X_val, y_val)\n",
    "score_test, preds = model.score(X_test, y_test)\n",
    "score_val, _ = model.score(X_val,y_val)"
   ]
  },
  {
   "cell_type": "code",
   "execution_count": 25,
   "metadata": {},
   "outputs": [
    {
     "name": "stdout",
     "output_type": "stream",
     "text": [
      "On test set: 0.7904761904761904 accuracy\n",
      "On validation set: 0.8095238095238095 accuracy\n"
     ]
    }
   ],
   "source": [
    "print(\"On test set: \" + str(score_test) + \" accuracy\")\n",
    "print(\"On validation set: \" + str(score_val) + \" accuracy\")"
   ]
  },
  {
   "cell_type": "code",
   "execution_count": 21,
   "metadata": {},
   "outputs": [],
   "source": [
    "cm3 = confusion_matrix(preds, y_test)"
   ]
  },
  {
   "cell_type": "code",
   "execution_count": 22,
   "metadata": {},
   "outputs": [
    {
     "data": {
      "image/png": "[encoded data removed]",
      "text/plain": [
       "<Figure size 640x480 with 2 Axes>"
      ]
     },
     "metadata": {},
     "output_type": "display_data"
    },
    {
     "data": {
      "image/png": "[encoded data removed]",
      "text/plain": [
       "<Figure size 1400x600 with 2 Axes>"
      ]
     },
     "metadata": {},
     "output_type": "display_data"
    }
   ],
   "source": [
    "sns.heatmap(cm3, annot=True, fmt='d', cmap='Blues', xticklabels=range(4), yticklabels=range(4))\n",
    "plt.xlabel('Predicted')\n",
    "plt.ylabel('True')\n",
    "plt.title('Confusion Matrix')\n",
    "plt.show()\n",
    "plot_training_curves(train_losses, val_losses, train_acc, val_acc)"
   ]
  }
 ],
 "metadata": {
  "kernelspec": {
   "display_name": ".venv",
   "language": "python",
   "name": "python3"
  },
  "language_info": {
   "codemirror_mode": {
    "name": "ipython",
    "version": 3
   },
   "file_extension": ".py",
   "mimetype": "text/x-python",
   "name": "python",
   "nbconvert_exporter": "python",
   "pygments_lexer": "ipython3",
   "version": "3.13.1"
  }
 },
 "nbformat": 4,
 "nbformat_minor": 2
}
